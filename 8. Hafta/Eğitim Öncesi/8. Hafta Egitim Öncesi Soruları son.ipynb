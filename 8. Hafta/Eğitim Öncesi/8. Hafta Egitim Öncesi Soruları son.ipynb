{
 "cells": [
  {
   "cell_type": "markdown",
   "metadata": {
    "id": "Pzh44PAE5H61"
   },
   "source": [
    "# Problem 1 \n",
    "Kullanıcıdan aldığı ürün bilgisini (ad, fiyat) urunler.txt dosyasına kayıt eden fonksiyonu yazınız."
   ]
  },
  {
   "cell_type": "code",
   "execution_count": 9,
   "metadata": {
    "id": "uKw3Wap95H64"
   },
   "outputs": [],
   "source": [
    "# 1.Problemin Çözümünü Buraya \n",
    "def urun_kaydi():\n",
    "    isim = input(\"Ürün adını giriniz: \")\n",
    "    fiyat = input(\"Ürünün fiyatını giriniz: \")\n",
    "    with open(\"urunler.txt\", \"a\", encoding = \"utf-8\") as file:\n",
    "              file.write(f\"{isim}, {fiyat}\\n\")\n",
    "urun_kaydi()"
   ]
  },
  {
   "cell_type": "markdown",
   "metadata": {
    "id": "Lw7xy19D5H66"
   },
   "source": [
    "# Problem 2\n",
    "1.problemde oluşturulan text dosyası içerisinde kullanıcıdan alacağımız eski kelime isimli değişkene atadığımız \n",
    "ve değiştirilmesini istediğimiz kelimemizi yerini alıcak olan yeni kelime isimli değişkene atayın. Belirlenen kelimeleri text dosyasında değiştiren fonksiyonu yazınız."
   ]
  },
  {
   "cell_type": "code",
   "execution_count": 19,
   "metadata": {
    "id": "jDlym3ko5H66"
   },
   "outputs": [],
   "source": [
    "# 2.Problemin Çözümünü Buraya Yazınız\n",
    "def urun_degistir(file_isim, eski_ürün, yeni_ürün):\n",
    "    try:\n",
    "        with open(\"urunler.txt\", \"r+\", encoding = \"utf-8\") as file:\n",
    "            icerik = file.read()\n",
    "            yeni_icerik = icerik.replace (eski_ürün, yeni_ürün)\n",
    "            file.seek(0)\n",
    "            file.write(yeni_icerik)\n",
    "        print(\"Ürün ismi değiştirildi.\")\n",
    "    finally:\n",
    "        print(\"Dosya işlemi tamamlandı.\")\n",
    "\n",
    "file_isim = \"urunler.txt\"\n",
    "eski_ürün = input(\"Değiştirilmek istenen eski kelimeyi girin: \")\n",
    "yeni_ürün = input(\"Yeni kelimeyi girin: \")\n",
    "\n",
    "\n",
    "\n"
   ]
  },
  {
   "cell_type": "markdown",
   "metadata": {
    "id": "3aSYk4FF5H67"
   },
   "source": [
    "# Problem 3\n",
    "Vehicle sınıfının tüm değişkenlerini ve yöntemlerini devralacak bir alt sınıf olarak Bus sınıfı oluşturunuz.\n",
    "\n",
    "\n",
    "\n",
    "```\n",
    "Output\n",
    "> Name: School Volvo Speed: 180 Mileage: 12\n",
    "```\n"
   ]
  },
  {
   "cell_type": "code",
   "execution_count": 10,
   "metadata": {
    "id": "PwCI6Xkb5H68"
   },
   "outputs": [
    {
     "name": "stdout",
     "output_type": "stream",
     "text": [
      "Name: School Volvo Speed: 180 Mileage: 12\n"
     ]
    }
   ],
   "source": [
    "# 3.Problemin Çözümünü Buraya Yazınız\n",
    "class Vehicle():\n",
    "    def __init__(self, name, speed, mileage):\n",
    "        self.name = name\n",
    "        self.speed = speed\n",
    "        self.mileage = mileage\n",
    "    \n",
    "    \n",
    "class Bus(Vehicle):\n",
    "    def __init__(self, name, speed, mileage):\n",
    "        super().__init__(name, speed, mileage)\n",
    "        \n",
    "Bus1 = Bus(\"School Volvo\", 180, 12)\n",
    "print(f\"Name: {Bus1.name} Speed: {Bus1.speed} Mileage: {Bus1.mileage}\")\n",
    "        \n",
    "\n",
    "        \n"
   ]
  }
 ],
 "metadata": {
  "colab": {
   "provenance": []
  },
  "kernelspec": {
   "display_name": "Python 3",
   "language": "python",
   "name": "python3"
  },
  "language_info": {
   "codemirror_mode": {
    "name": "ipython",
    "version": 3
   },
   "file_extension": ".py",
   "mimetype": "text/x-python",
   "name": "python",
   "nbconvert_exporter": "python",
   "pygments_lexer": "ipython3",
   "version": "3.11.9"
  },
  "orig_nbformat": 4,
  "vscode": {
   "interpreter": {
    "hash": "5026d2d6e7aaaaba093def813beadff083d8733e4a511af01735cbabd156995d"
   }
  }
 },
 "nbformat": 4,
 "nbformat_minor": 0
}
