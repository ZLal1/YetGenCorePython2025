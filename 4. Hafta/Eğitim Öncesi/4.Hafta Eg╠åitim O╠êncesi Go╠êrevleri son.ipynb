{
 "cells": [
  {
   "cell_type": "markdown",
   "metadata": {
    "id": "-My6RWLrhXIq"
   },
   "source": [
    "# Problem 1\n",
    "Sözlükleri kullanarak bir telefon rehberi yazın. Bu rehberde kullanıcıya kimin telefonunu görüntülemek istediğini sorun ve kullanıcının girdiği isme göre o kişinin telefon numarasını yazdırın. Proje sonunda elde edeceğiniz çıktı  şuna benzer olmalı:\n",
    "\n",
    "\n",
    "Lütfen numarasını öğrenmek istediğiniz kişinin adını girin: Ahmet\n",
    "\n",
    "Ahmet isimli kişinin numarası şu şekildedir: 0532 678 13 19"
   ]
  },
  {
   "cell_type": "code",
   "execution_count": 67,
   "metadata": {
    "id": "LHIQEhchhXIu"
   },
   "outputs": [
    {
     "name": "stdout",
     "output_type": "stream",
     "text": [
      "Azra İrem isimli kişinin telefon numarası: 5558765874\n"
     ]
    }
   ],
   "source": [
    "# 1.Problemin Çözümünü Buraya Yazınız\n",
    "telefon_rehberi = {\n",
    "    \"Ali Tutar\": \"5551234288\",\n",
    "    \"Esma Yılmaz\": \"5555678753\",\n",
    "    \"Azra İrem\": \"5558765874\"\n",
    "}\n",
    "isim = input(\"Lütfen numarasını öğrenmek istediğiniz kişinin adını giriniz: \")\n",
    "if isim in telefon_rehberi:\n",
    "    print(f\"{isim} isimli kişinin telefon numarası: {telefon_rehberi[isim]}\")"
   ]
  },
  {
   "cell_type": "markdown",
   "metadata": {
    "id": "rlgfjEi7hXIv"
   },
   "source": [
    "# Problem 2\n",
    "Sözlükleri kullanarak bir şirket çalışanları indeksi oluşturun. Bu isim indeksinde kişilerin isimleri key, kişilerin  memleket, yaş ve görev bilgileri value olmalıdır. Burada kullanacağımız value değerleri liste olmalıdır.\n",
    "\n",
    "\n",
    "Daha sonra bir isim sorgulama ekranı gibi kullanıcıya kimin bilgilerini görüntülemek istediğini \n",
    "sorun ve sorgulanan kişinin ekranda gösterilmesini sağlayın. Proje sonunda elde edeceğiniz çıktı şu şekilde olmalı:\n",
    "\n",
    "\n",
    "Lütfen bilgilerini görüntülemek istediğiniz çalışanın ismini girin: Mehmet Yağız\n",
    "\n",
    "Mehmet Yağız= Memleket: Adana Yaş: 40 Görev: Direktör"
   ]
  },
  {
   "cell_type": "code",
   "execution_count": 60,
   "metadata": {
    "id": "O09zrrs0hXIv"
   },
   "outputs": [
    {
     "name": "stdout",
     "output_type": "stream",
     "text": [
      "Zeynep bilgileri:\n",
      "Memleket: Antalya\n",
      "Yaş: 28\n",
      "Görev: Yönetici\n"
     ]
    }
   ],
   "source": [
    "# 2.Problemin Çözümünü Buraya Yazınız\n",
    "calisanlar = {\n",
    "    \"Ali\": [\"İstanbul\", 30, \"Yazılımcı\"],\n",
    "    \"Ayşe\": [\"Bolu\", 25, \"Direktör\"],\n",
    "    \"Selin\": [\"İzmir\", 35, \"Muhasebe\"],\n",
    "    \"Zeynep\": [\"Antalya\", 28, \"Yönetici\"]\n",
    "}\n",
    "isim = input(\"Lütfen bilgilerini görüntülemek istediğiniz çalışanın ismini girin: \")\n",
    "if isim in calisanlar:\n",
    "    bilgi = calisanlar[isim]\n",
    "    print(f\"{isim} bilgileri:\")\n",
    "    print(f\"Memleket: {bilgi[0]}\")\n",
    "    print(f\"Yaş: {bilgi[1]}\")\n",
    "    print(f\"Görev: {bilgi[2]}\")\n",
    "\n",
    "else:\n",
    "    print(\"Böyle bir çalışan bulunmamaktadır.\")\n",
    "\n"
   ]
  },
  {
   "cell_type": "markdown",
   "metadata": {
    "id": "G67ztXG-hXIw"
   },
   "source": [
    "# Problem 3\n",
    "\n",
    "3 öğrenciden oluşan bir öğrenci not sözlüğü oluşturun. Bu sözlükte öğrencilerin notları value olarak bir listede toplansın.\n",
    "\n",
    "Kullanıcıya hangi öğrencinin notlarını görmek istediğini sorun. Öğrencinin notu görüntülendiğinde program sonunda şöyle bir çıktı elde etmelisiniz:\n",
    "\n",
    "```\n",
    "Lütfen notlarını görmek istediğiniz öğrencinin adını girin: Mehmet\n",
    "\n",
    "Mehmet isimli öğrencinin      1.Sınav Notu:72\n",
    "                              2.Sınav Notu:66\n",
    "                              3.Sınav Notu:48\n",
    "Not Ortalaması: 62.0\n"
   ]
  },
  {
   "cell_type": "code",
   "execution_count": 62,
   "metadata": {
    "id": "TXQ_fuCHhXIw"
   },
   "outputs": [
    {
     "name": "stdout",
     "output_type": "stream",
     "text": [
      "Ali isimli öğrencinin:\n",
      "1. sınav notu: 65\n",
      "2. sınav notu: 78\n",
      "3. sınav notu: 70\n",
      "Ali isimli öğrencinin not ortalaması: 71.00\n"
     ]
    }
   ],
   "source": [
    "# 3.Problemin Çözümünü Buraya Yazınız\n",
    "ogrenci_notlari = {\n",
    "    \"Mehmet\": [72, 90, 75],\n",
    "    \"Ayşe\": [80, 85, 88],\n",
    "    \"Ali\": [65, 78, 70]\n",
    "}\n",
    "ogrenci_adi = input(\"Lütfen notlarını görmek istediğiniz öğrencinin adını girin: \")\n",
    "if ogrenci_adi in ogrenci_notlari:\n",
    "    notlar = ogrenci_notlari[ogrenci_adi]\n",
    "    print(f\"{ogrenci_adi} isimli öğrencinin:\")\n",
    "    for i, not_ in enumerate(notlar, 1):\n",
    "        print(f\"{i}. sınav notu: {not_}\")\n",
    "    ortalama = sum(notlar) / len(notlar)\n",
    "    print(f\"{ogrenci_adi} isimli öğrencinin not ortalaması: {ortalama:.2f}\")\n",
    "else:\n",
    "    print(\"Böyle bir öğrenci bulunmamaktadır.\")\n",
    " "
   ]
  },
  {
   "cell_type": "markdown",
   "metadata": {
    "id": "oel6A5WFhXIw"
   },
   "source": [
    "# Problem 4"
   ]
  },
  {
   "cell_type": "code",
   "execution_count": 55,
   "metadata": {
    "id": "jVRdspCrhXIx"
   },
   "outputs": [
    {
     "name": "stdout",
     "output_type": "stream",
     "text": [
      "4\n",
      "BMW\n",
      "Mazda\n",
      "['BMW', 'Mercedes', 'Opel', 'Toyota']\n",
      "Opel\n",
      "BMW Mercedes Opel\n",
      "['BMW', 'Mercedes', 'Toyota', 'Renault']\n",
      "['BMW', 'Mercedes', 'Toyota', 'Renault', 'Audi', 'Nissan']\n",
      "['BMW', 'Mercedes', 'Toyota', 'Renault', 'Audi']\n",
      "['Audi', 'Renault', 'Toyota', 'Mercedes', 'BMW']\n",
      "[{'studentA': 'Yiğit Bilgi', 'Doğum': 2010, 'Notu': (70, 60, 70)}, {'studentB': 'Sena Turan', 'Doğum': 1999, 'Notu': (80, 80, 70)}, {'studentC': 'Ahmet Turan', 'Doğum': 1998, 'Notu': (80, 70, 90)}]\n",
      "['Ali', 'Yağmur', 'Hakan', 'Deniz', 'Cenk']\n",
      "['Sena', 'Ali', 'Yağmur', 'Hakan', 'Deniz', 'Cenk']\n",
      "['Sena', 'Ali', 'Yağmur', 'Hakan', 'Cenk']\n",
      "True\n",
      "['Deniz', 'Hakan', 'Yağmur', 'Ali']\n",
      "['Ali', 'Deniz', 'Hakan', 'Yağmur']\n",
      "[1987, 1998, 1998, 2000]\n",
      "['Chevrolet', 'Dacia']\n",
      "2\n",
      "[]\n",
      "['nestle', 'ülker', 'eti']\n"
     ]
    }
   ],
   "source": [
    "# 1-  \"Bmw, Mercedes, Opel, Mazda\" elemanlarına sahip bir liste oluşturunuz.\n",
    "arabalar = [\"BMW\", \"Mercedes\", \"Opel\", \"Mazda\"]\n",
    "\n",
    "# 2-  Liste Kaç elemanlıdır ?\n",
    "elemansayisi = len(arabalar)\n",
    "print(elemansayisi)\n",
    "\n",
    "# 3-  Listenin ilk ve son elemanı nedir ?\n",
    "print(arabalar[0]) \n",
    "print(arabalar[3])\n",
    "\n",
    "# 4-  Mazda değerini Toyota ile değiştirin.\n",
    "arabalar[3] = \"Toyota\"\n",
    "print(arabalar)\n",
    "\n",
    "# 5-  Listenin -2 indeksindeki değer nedir ?\n",
    "print(arabalar[-2])\n",
    "\n",
    "# 6-  Listenin ilk 3 elemanını alın.\n",
    "print(arabalar[0], arabalar[1], arabalar[2])\n",
    "\n",
    "# 7-  Listenin son 2 elemanı yerine \"Toyota\" ve \"Renault\" değerlerini ekleyin.\n",
    "arabalar[2] = \"Toyota\"\n",
    "arabalar[3] = \"Renault\"\n",
    "print(arabalar)\n",
    "\n",
    "# 8-  Listenin üzerine \"Audi\" ve \"Nissan\" değerlerini ekleyin.\n",
    "arabalar.append(\"Audi\")\n",
    "arabalar.append(\"Nissan\")\n",
    "print(arabalar)\n",
    "\n",
    "# 9- Listenin son elemanını silin.\n",
    "arabalar.pop()\n",
    "print(arabalar)\n",
    "\n",
    "# 10- Liste elemanlarını tersten yazdırınız.\n",
    "arabalar.reverse()\n",
    "print(arabalar)\n",
    "\n",
    "# 11- Aşağıdaki verileri bir liste içinde saklayınız. \n",
    "\n",
    "      # studentA: Yiğit Bilgi 2010, (70,60,70)\n",
    "      # studentB: Sena Turan  1999, (80,80,70)\n",
    "      # studentC: Ahmet Turan 1998, (80,70,90) \n",
    "\n",
    "ogrenciler = [\n",
    "    {\"studentA\": \"Yiğit Bilgi\", \"Doğum\": 2010, \"Notu\": (70, 60, 70)},\n",
    "    {\"studentB\": \"Sena Turan\", \"Doğum\": 1999, \"Notu\": (80, 80, 70)},\n",
    "    {\"studentC\": \"Ahmet Turan\", \"Doğum\": 1998, \"Notu\": (80, 70, 90)}\n",
    "]\n",
    "\n",
    "\n",
    "# 12- Liste elemanlarını ekrana yazdırınız.\n",
    "print(ogrenciler)\n",
    "\n",
    "\n",
    "\n",
    "  \n",
    "names = ['Ali','Yağmur','Hakan','Deniz']\n",
    "years = [1998, 2000, 1998, 1987]\n",
    "\n",
    "# 13-  \"Cenk\" ismini listenin sonuna ekleyiniz.\n",
    "names.append(\"Cenk\")\n",
    "print(names)\n",
    "\n",
    "# 14-  \"Sena\" değerini listenin başına ekleyiniz.\n",
    "names.insert(0,\"Sena\")\n",
    "print(names)\n",
    "\n",
    "\n",
    "# 15-  \"Deniz\" ismini listeden siliniz.\n",
    "names.remove(\"Deniz\")\n",
    "print(names)\n",
    "\n",
    "\n",
    "# 16-  \"Ali\" listenin bir elemanı mıdır ?\n",
    "names = ['Ali', 'Yağmur', 'Hakan', 'Deniz']\n",
    "print(\"Ali\" in names)\n",
    "\n",
    "\n",
    "# 17-  Liste elemanlarını ters çevirin.\n",
    "names.reverse()\n",
    "print(names)\n",
    "# 18-  Liste elemanlarını alfabetik olarak sıralayınız.\n",
    "names.sort()\n",
    "print(names)\n",
    "\n",
    "# 19-  years listesini rakamsal büyüklüğe göre sıralayınız.\n",
    "years.sort()\n",
    "print(years)\n",
    "\n",
    "# 20-  str = \"Chevrolet,Dacia\" karakter dizisini listeye çeviriniz.\n",
    "arabalar2 = [\"Chevrolet\", \"Dacia\"]\n",
    "print(arabalar2)\n",
    "\n",
    "\n",
    "# 21- years dizisinde kaç tane 1998 değeri vardır ?\n",
    "count_1998 = years.count(1998)\n",
    "print(count_1998)\n",
    "\n",
    "\n",
    "\n",
    "# 22- years dizisinin tüm elemanlarını siliniz.\n",
    "years.clear()\n",
    "print(years)\n",
    "\n",
    "\n",
    "# 23- Kullanıcıdan alacağınız 3 tane marka bilgisini bir listede saklayınız.\n",
    "marka1 = input(\"Birinci markayı giriniz: \")\n",
    "marka2 = input(\"İkinci markayı giriniz: \")\n",
    "marka3 = input(\"Üçüncü markayı giriniz: \")\n",
    "markalar = [marka1, marka2, marka3]\n",
    "print(markalar)"
   ]
  }
 ],
 "metadata": {
  "colab": {
   "provenance": []
  },
  "kernelspec": {
   "display_name": "Python 3",
   "language": "python",
   "name": "python3"
  },
  "language_info": {
   "codemirror_mode": {
    "name": "ipython",
    "version": 3
   },
   "file_extension": ".py",
   "mimetype": "text/x-python",
   "name": "python",
   "nbconvert_exporter": "python",
   "pygments_lexer": "ipython3",
   "version": "3.11.9"
  },
  "orig_nbformat": 4
 },
 "nbformat": 4,
 "nbformat_minor": 0
}
