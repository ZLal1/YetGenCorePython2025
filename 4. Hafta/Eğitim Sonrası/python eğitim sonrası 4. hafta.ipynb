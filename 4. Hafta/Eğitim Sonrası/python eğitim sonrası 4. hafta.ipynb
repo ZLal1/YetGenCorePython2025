{
 "cells": [
  {
   "cell_type": "markdown",
   "metadata": {},
   "source": [
    "# Problem 1\n",
    "`ogrenciler` adında bir sözlük oluşturunuz. Kullanıcıdan döngü yardımıyla 3 öğrenci için veri girmesini isteyerek öğrencilerin sırasıyla okul numarası, isim, soy isim, telefon numarası ve doğum tarihi bilgilerini alınız. Aldığınız öğrenci bilgilerini yine aynı döngü yardımıyla `ogrenciler` adındaki sözlükte saklayınız. Daha sonra öğrenci bilgilerinin bulunduğu sözlük yapısını ekrana bastırınız.\n",
    "\n"
   ]
  },
  {
   "cell_type": "code",
   "execution_count": 1,
   "metadata": {},
   "outputs": [
    {
     "name": "stdout",
     "output_type": "stream",
     "text": [
      "{'İsim': 'zeynep', 'Soyisim': 'can', 'Telefon Numarası': '05537682017', 'Doğum Tarihi': '14/02/2007'}\n",
      "Öğrenci: hatice çaylı\n",
      "İsim: hatice \n",
      "Soyisim: çaylı\n",
      "Telefon Numarası: 05395066243\n",
      "Doğum Tarihi: 19/05/2005\n",
      "Öğrenci: gülnuryavuz\n",
      "İsim: gülnur\n",
      "Soyisim: yavuz\n",
      "Telefon Numarası: 05596374546\n",
      "Doğum Tarihi: 24/02/2006\n",
      "Öğrenci: zeynepcan\n",
      "İsim: zeynep\n",
      "Soyisim: can\n",
      "Telefon Numarası: 05537682017\n",
      "Doğum Tarihi: 14/02/2007\n"
     ]
    }
   ],
   "source": [
    "# 1.Problemin Çözümünü Buraya Yazınız\n",
    "ogrenciler = {}\n",
    "ogrenci_sayisi = 0\n",
    "while ogrenci_sayisi < 3 :\n",
    "    isim = input(\"Öğrencinin ismini giriniz: \")\n",
    "    soyisim = input(\"Öğrencinin soyismini giriniz: \")\n",
    "    telefon = input(\"Öğrencinin telefon numarasını giriniz: \")\n",
    "    dogum_tarihi = input(\"Öğrencinin doğum tarihini giriniz: \")\n",
    "    ogrenci = isim + soyisim\n",
    "    ogrenciler[ogrenci] = {\n",
    "        \"İsim\": isim,\n",
    "        \"Soyisim\": soyisim,\n",
    "        \"Telefon Numarası\": telefon,\n",
    "        \"Doğum Tarihi\": dogum_tarihi\n",
    "    }\n",
    "    ogrenci_sayisi += 1\n",
    "print(ogrenciler[ogrenci])\n",
    "\n",
    "for ogrenci, bilgiler in ogrenciler.items():\n",
    "    print(f\"Öğrenci: {ogrenci}\")\n",
    "    for bilgi, deger in bilgiler.items():\n",
    "        print(f\"{bilgi}: {deger}\")\n"
   ]
  },
  {
   "cell_type": "markdown",
   "metadata": {},
   "source": [
    "# Problem 2\n",
    "\n",
    "### a - Biraz ısınarak başlayalım!\n",
    "\n",
    "```\n",
    "numbers = [5,10,10,15,15,15,20,20,20,20]\n",
    "```\n",
    "\n",
    "Yukarıda `numbers` adında 10 elemanlı bir liste verilmiştir. Bu listenin her elemanını kontrol eden ve tekrar eden elemanları bir kez olacak şekilde başka bir listeye kopyalayan bir program yazınız. Son olarak oluşturduğunuz listeyi ekrana bastırınız.\n",
    "\n",
    "\n",
    "\n",
    "\n",
    "```\n",
    ">Output\n",
    "[5, 10, 15, 20]\n",
    "```\n"
   ]
  },
  {
   "cell_type": "code",
   "execution_count": 2,
   "metadata": {},
   "outputs": [
    {
     "name": "stdout",
     "output_type": "stream",
     "text": [
      "{10, 20, 15}\n"
     ]
    }
   ],
   "source": [
    "# 2.Problemin a Şıkkının Çözümünü Buraya Yazınız\n",
    "numbers = [5,10,10,15,15,15,20,20,20,20]\n",
    "more_than_one = set()\n",
    "for i in numbers:\n",
    "     if numbers.count(i) > 1:\n",
    "        more_than_one.add(i)\n",
    "\n",
    "print(more_than_one)\n",
    "    \n",
    "#Soruda yalnızca tekrar eden elemanların yazdırılması istenmiş. 5, tekrar etmediği için more_than_one listesine yazdırılmadı.\n",
    "\n",
    "\n"
   ]
  },
  {
   "cell_type": "markdown",
   "metadata": {},
   "source": [
    "### 🌶️ b) Hadi işi biraz daha zorlaştıralım! \n",
    "\n",
    "\n",
    "Şimdiyse senden `numbers` isimli listedeki tekrar eden elemanları `repeatNumbers` adındaki listeye; tekrar etmeyen elemanları `uniqueNumbers`adındaki listeye kopyalayan yazmanı ve listeleri ekrana bastırmanı bekliyoruz\n",
    "\n",
    "```\n",
    ">Output\n",
    "Tekrar Eden Elemanlar: [10, 10, 15, 15, 15, 20, 20, 20, 20]\n",
    "Tekrar Etmeyen Elemanlar: [5]\n",
    "```"
   ]
  },
  {
   "cell_type": "code",
   "execution_count": 3,
   "metadata": {},
   "outputs": [
    {
     "name": "stdout",
     "output_type": "stream",
     "text": [
      "Tekrar Eden Elemanlar: [10, 10, 15, 15, 15, 20, 20, 20, 20]\n",
      "Tekrar Etmeyen Elemanlar: [5]\n"
     ]
    }
   ],
   "source": [
    "# 2.Problemin b Şıkkının Çözümünü Buraya Yazınız\n",
    "numbers = [5,10,10,15,15,15,20,20,20,20]\n",
    "repeatNumbers = []\n",
    "uniqueNumbers = []\n",
    "for i in numbers:\n",
    "    if numbers.count(i) > 1:\n",
    "        repeatNumbers.append(i)\n",
    "    else:\n",
    "        uniqueNumbers.append(i)\n",
    "\n",
    "print(\"Tekrar Eden Elemanlar:\" , repeatNumbers)\n",
    "print(\"Tekrar Etmeyen Elemanlar:\" , uniqueNumbers)\n"
   ]
  },
  {
   "cell_type": "markdown",
   "metadata": {},
   "source": [
    "# Problem 3\n",
    "sn1 = {1,2,3,4,5}\n",
    "\n",
    "sn2 = {4,5,6,7,8}\n",
    "\n",
    " Verilen 2 adet küme için kesişimlerini, farklarını ve birleşimlerini bulunuz. "
   ]
  },
  {
   "cell_type": "code",
   "execution_count": 4,
   "metadata": {},
   "outputs": [
    {
     "name": "stdout",
     "output_type": "stream",
     "text": [
      "{4, 5}\n",
      "{1, 2, 3}\n",
      "{1, 2, 3, 4, 5, 6, 7, 8}\n"
     ]
    }
   ],
   "source": [
    "# 3.Problemin Çözümünü Buraya Yazınız\n",
    "sn1 = {1,2,3,4,5}\n",
    "sn2 = {4,5,6,7,8}\n",
    "kesisim = sn1.intersection(sn2)\n",
    "print(kesisim)\n",
    "fark = sn1.difference(sn2)\n",
    "print(fark)\n",
    "birlesim = sn1.union(sn2)\n",
    "print(birlesim)"
   ]
  },
  {
   "cell_type": "markdown",
   "metadata": {},
   "source": [
    "# Problem 4\n",
    "\n",
    "Buradaki işlemlerimizin tamamı stringler içindir. Aşağıda verilecek olan metodlar için kendinizin örnek yaratması gerekmektedir. \n",
    "\n",
    "Örneğin `upper` için `string` değişkeni oluştururken` k = \"BAC\"` şeklinde oluşturmayınız. Bunun yerine k değişkenini `k = \"bac`\" şeklinde oluşturmanız `upper` metodundaki değişimi görebilmeniz için daha iyi olacaktır.\n",
    "\n",
    "Bütün metodlardaki değişimin gözle görülür şekilde değişimi beklenmektedir.\n",
    "\n",
    "\n",
    "1- capitalize(), lower(), upper(), swapcase(), title(), replace()\n",
    "\n",
    "2- endswith(), startswith(), find(), index(), count()\n",
    "\n",
    "3- split(), strip(), join(), islower(), isalpha(), isdigit()\n",
    "\n",
    "\n",
    "Yukarıdaki `string` metodlarındaki değişimleri görebildiğimiz bir program yazınız.\n"
   ]
  },
  {
   "cell_type": "code",
   "execution_count": 7,
   "metadata": {},
   "outputs": [
    {
     "name": "stdout",
     "output_type": "stream",
     "text": [
      "Yetgen ile python öğrenmye başladığım için mutluyum.     \n",
      "  2025 yılında    yetgen bitmez diyerek bu serüvene python eğitimi ile devam ediyoruz. \n",
      "YETGEN ILE PYTHON ÖĞRENMYE BAŞLADIĞIM IÇIN MUTLUYUM.     \n",
      "  2025 YILINDA    yETgEN BITMEZ DIYEREK BU SERÜVENE pYTHON EĞITIMI ILE DEVAM EDIYORUZ. \n",
      "Yetgen Ile Python Öğrenmye Başladığım Için Mutluyum.     \n",
      "YotGon ilo Python öğronmyo başladığım için mutluyum.     \n",
      "False\n",
      "True\n",
      "False\n",
      "True\n",
      "22\n",
      "35\n",
      "4\n",
      "['  2025 yılında    YetGen bitmez diyerek bu serüvene Python eğitimi ile devam ediyoruz. ']\n",
      "2025 yılında    YetGen bitmez diyerek bu serüvene Python eğitimi ile devam ediyoruz.\n",
      "YetGen ile Python öğrenmye başladığım için mutluyum.\n",
      "Y e t G e n   i l e   P y t h o n   ö ğ r e n m y e   b a ş l a d ı ğ ı m   i ç i n   m u t l u y u m .          \n",
      "False\n",
      "True\n",
      "True\n",
      "True\n"
     ]
    }
   ],
   "source": [
    "# 4.Problemin Çözümünü Buraya Yazınız\n",
    "\n",
    "example1 = (\"YetGen ile Python öğrenmye başladığım için mutluyum.     \")\n",
    "example2 = (\"  2025 yılında    YetGen bitmez diyerek bu serüvene Python eğitimi ile devam ediyoruz. \")\n",
    "\n",
    "print(example1.capitalize())\n",
    "print(example2.lower())\n",
    "print(example1.upper())\n",
    "print(example2.swapcase())\n",
    "print(example1.title())\n",
    "print(example1.replace(\"e\",\"o\"))\n",
    "\n",
    "print(example2.endswith(\"?\"))\n",
    "print(example1.endswith(\"\"))\n",
    "print(example1.startswith(\"y\"))\n",
    "print(example2.startswith(\"\"))\n",
    "print(example2.find(\"en\"))\n",
    "print(example1.index(\"ım\"))\n",
    "print(example1.count(\"m\"))\n",
    "\n",
    "print(example2.split(\",\"))\n",
    "print(example2.strip())\n",
    "print(example1.strip())\n",
    "print(\" \".join(example1))\n",
    "print(example1.islower())\n",
    "print(\"yetgen\".islower())\n",
    "print(\"YetGen\".isalpha())\n",
    "print(\"365\".isdigit())"
   ]
  }
 ],
 "metadata": {
  "kernelspec": {
   "display_name": "Python 3",
   "language": "python",
   "name": "python3"
  },
  "language_info": {
   "codemirror_mode": {
    "name": "ipython",
    "version": 3
   },
   "file_extension": ".py",
   "mimetype": "text/x-python",
   "name": "python",
   "nbconvert_exporter": "python",
   "pygments_lexer": "ipython3",
   "version": "3.11.9"
  },
  "orig_nbformat": 4
 },
 "nbformat": 4,
 "nbformat_minor": 2
}
