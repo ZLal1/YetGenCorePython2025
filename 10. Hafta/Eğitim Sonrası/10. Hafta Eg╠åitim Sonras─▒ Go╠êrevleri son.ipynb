{
 "cells": [
  {
   "attachments": {},
   "cell_type": "markdown",
   "metadata": {},
   "source": [
    "# Problem 1 "
   ]
  },
  {
   "cell_type": "code",
   "execution_count": 1,
   "metadata": {},
   "outputs": [
    {
     "name": "stdout",
     "output_type": "stream",
     "text": [
      "Orijinal dizi: [58 65 87  7  1]\n",
      "Sıralı dizi: [ 1  7 58 65 87]\n"
     ]
    }
   ],
   "source": [
    "# 1 - numpy kütüphanesini import edin\n",
    "import numpy as np\n",
    "# 2 - 5 elemanlı bir numpy array oluşturun\n",
    "dizi = np.array([58 , 65 , 87 , 7 , 1])\n",
    "print(\"Orijinal dizi:\", dizi)\n",
    "# 3 - Oluşturduğunuz arrayi küçükten büyüğe sıralayın.\n",
    "sirali_dizi = np.sort(dizi)\n",
    "print(\"Sıralı dizi:\", sirali_dizi)"
   ]
  },
  {
   "attachments": {},
   "cell_type": "markdown",
   "metadata": {},
   "source": [
    "# Problem 2"
   ]
  },
  {
   "cell_type": "code",
   "execution_count": null,
   "metadata": {},
   "outputs": [],
   "source": [
    "import numpy as np\n",
    "# 1- (10,15,30,45,60) değerlerine sahip numpy dizisi oluşturunuz.\n",
    "dizi1 = np.array([10, 15, 55, 45, 78])\n",
    "print(\"1:\", dizi1)\n",
    "\n",
    "# 2- (5-15) arasındaki sayılarla numpy dizisi oluşturunuz.\n",
    " dizi2 = np.arange(5, 16)\n",
    "print(\"2:\", dizi2)\n",
    "\n",
    "# 3- (50-100) arasında 5'er 5'er artarak numpy dizisi oluşturunuz.\n",
    "dizi3 = np.arange(50, 101, 5)\n",
    "print(\"3:\", dizi3)\n",
    "\n",
    "# 4- 10 elemanlı sıfırlardan oluşan bir dizi oluşturunuz.\n",
    "dizi4 = np.zeros(10)\n",
    "print(\"4:\", dizi4)\n",
    "\n",
    "\n",
    "# 5- 10 elemanlı birlerden oluşan bir dizi oluşturunuz.\n",
    "dizi5 = np.ones(10)\n",
    "print(\"5:\", dizi5)\n",
    "\n",
    "# 6- (0-100) arasında eşit aralıklı 5 sayı üretin.\n",
    "dizi6 = np.linspace(0, 100, 5)\n",
    "print(\"6:\", dizi6)\n",
    "\n",
    "# 7- (10-30) arasında rastgele 5 tane tamsayı üretin.\n",
    "dizi7 = np.random.randint(10, 30, 5)\n",
    "print(\"7:\", dizi7)\n",
    "\n",
    "# 8- [-1 ile 1] arasında 10 adet sayı üretin.\n",
    "dizi8 = np.random.uniform(-1, 1, 10)\n",
    "print(\"8:\", dizi8)\n",
    "\n",
    "# 9- (3x5) boyutlarında (10-50) arasında rastgele bir matris oluşturunuz.\n",
    "matris9 = np.random.randint(10, 50, (3, 5))\n",
    "print(\"9:\\n\", matris9)\n",
    "\n",
    "\n",
    "# 10- Üretilen matrisin satır ve sütun sayıları toplamlarını hesaplayınız ?\n",
    "print(\"10 - Satır toplamları:\", matris9.sum(axis=1))\n",
    "print(\"10 - Sütun toplamları:\", matris9.sum(axis=0))\n",
    "\n",
    "# 11- Üretilen matrisin en büyük, en küçük ve ortalaması nedir ?\n",
    "print(\"11 - En büyük:\", matris9.max())\n",
    "print(\"11 - En küçük:\", matris9.min())\n",
    "print(\"11 - Ortalama:\", matris9.mean())\n",
    "\n",
    "# 12- Üretilen matrisin en büyük değerinin indeksi kaçtır ?\n",
    "indeks12 = np.argmax(matris9)\n",
    "print(\"12 - En büyük elemanın düz indeksi:\", indeks12)\n",
    "\n",
    "\n",
    "# 13- (10-20) arasındaki sayıları içeren dizinin ilk 3 elemanını seçiniz.\n",
    "dizi13 = np.arange(10, 20)\n",
    "print(\"13 - İlk 3 eleman:\", dizi13[:3])\n",
    "\n",
    "# 14- Üretilen dizinin elemanlarını tersten yazdırın.\n",
    "print(\"14 - Tersten:\", dizi13[::-1])\n",
    "\n",
    "# 15- Üretilen matrisin ilk satırını seçiniz.\n",
    "print(\"15 - İlk satır:\", matris9[0])\n",
    "\n",
    "# 16- Üretilen matrisin 2.satır 3.sütundaki elemanı hangisidir ?\n",
    "print(\"16 - 2. satır, 3. sütun elemanı:\", matris9[1, 2])\n",
    "\n",
    "\n",
    "# 17- Üretilen matrisin tüm satırlardaki ilk elemanı seçiniz.\n",
    "print(\"17 - Her satırın ilk elemanı:\", matris9[:, 0])\n",
    "\n",
    "\n",
    "# 18- Üretilen matrisin her bir elemanının karesini alınız.\n",
    "print(\"18 - Karesi alınmış matris:\\n\", matris9 ** 2)\n",
    "\n",
    "# 19- Üretilen matris elemanlarının hangisi pozitif çift sayıdır ? Aralığı (-50,+50) arasında yapınız.\n",
    "matris19 = np.random.randint(-50, 51, (3, 5))\n",
    "print(\"19 - Yeni matris:\\n\", matris19)\n",
    "pozitif_ciftler = matris19[(matris19 > 0) & (matris19 % 2 == 0)]\n",
    "print(\"19 - Pozitif çift sayılar:\", pozitif_ciftler)"
   ]
  }
 ],
 "metadata": {
  "kernelspec": {
   "display_name": "Python 3",
   "language": "python",
   "name": "python3"
  },
  "language_info": {
   "codemirror_mode": {
    "name": "ipython",
    "version": 3
   },
   "file_extension": ".py",
   "mimetype": "text/x-python",
   "name": "python",
   "nbconvert_exporter": "python",
   "pygments_lexer": "ipython3",
   "version": "3.11.9"
  },
  "orig_nbformat": 4,
  "vscode": {
   "interpreter": {
    "hash": "5026d2d6e7aaaaba093def813beadff083d8733e4a511af01735cbabd156995d"
   }
  }
 },
 "nbformat": 4,
 "nbformat_minor": 2
}
