{
 "cells": [
  {
   "attachments": {},
   "cell_type": "markdown",
   "metadata": {},
   "source": [
    "# Problem 1"
   ]
  },
  {
   "cell_type": "code",
   "execution_count": 2,
   "metadata": {},
   "outputs": [
    {
     "name": "stdout",
     "output_type": "stream",
     "text": [
      "Matris: [9 3 5 0 4]\n",
      "Boyut: (5,)\n",
      "yeniden boyutlandırılmış matris: [[9]\n",
      " [3]\n",
      " [5]\n",
      " [0]\n",
      " [4]]\n",
      "Boyut Sayısı: 2\n"
     ]
    }
   ],
   "source": [
    "# 1 - numpy kütüphanesini import edin\n",
    "import numpy as np\n",
    "# 2 - 0 ile 10 arasında 5 sayıdan oluşan matris üretin\n",
    "matris = np.random.randint(0,10,5)\n",
    "print(\"Matris:\" , matris)\n",
    "# 3 - matris'in boyutunu öğrenin\n",
    "print(\"Boyut:\" , matris.shape)\n",
    "# 4 - matris'i yeniden boyutlandırın\n",
    "yeniden_boyutla_matris = matris.reshape(5,1)\n",
    "print(\"yeniden boyutlandırılmış matris:\" , yeniden_boyutla_matris)\n",
    "# 5 - matris'in boyut sayısını öğrenin\n",
    "print(\"Boyut Sayısı:\", yeniden_boyutla_matris.ndim)\n"
   ]
  },
  {
   "attachments": {},
   "cell_type": "markdown",
   "metadata": {},
   "source": [
    "# Problem 2"
   ]
  },
  {
   "cell_type": "code",
   "execution_count": 4,
   "metadata": {},
   "outputs": [
    {
     "name": "stdout",
     "output_type": "stream",
     "text": [
      "Matris: [1 3 5 7 9]\n",
      "Parça 1: [1 3 5]\n",
      "Parça 2: [7 9]\n",
      "Birleşmiş Matris: [1 3 5 7 9]\n"
     ]
    }
   ],
   "source": [
    "# 1 - 0 ile 10 arasında bulunan tek sayılardan oluşan matris üretin\n",
    "tek_sayilar = np.arange(1,10,2)\n",
    "print(\"Matris:\" , tek_sayilar)\n",
    "# 2 - Oluşturduğunuz matrisi parçalayın\n",
    "parca1 , parca2 = np.array_split(tek_sayilar , 2)\n",
    "print(\"Parça 1:\" , parca1)\n",
    "print(\"Parça 2:\" , parca2)\n",
    "# 3 - Parçalanmış matrisleri birleştirin\n",
    "birlesmis = np.concatenate((parca1 , parca2))\n",
    "print(\"Birleşmiş Matris:\" , birlesmis)"
   ]
  },
  {
   "attachments": {},
   "cell_type": "markdown",
   "metadata": {},
   "source": [
    "# Problem 3"
   ]
  },
  {
   "cell_type": "code",
   "execution_count": 5,
   "metadata": {},
   "outputs": [
    {
     "name": "stdout",
     "output_type": "stream",
     "text": [
      "Matris: [67 21 59  7 43 93 41 45 85 77]\n",
      "Şekli (shape): (10,)\n",
      "Boyut sayısı (ndim): 1\n",
      "Veri tipi (dtype): int64\n",
      "Eleman sayısı (size): 10\n",
      "Minimum: 7\n",
      "Maksimum: 93\n",
      "Ortalama: 53.8\n"
     ]
    }
   ],
   "source": [
    "# 1 - 5 ile 100 arasında ikişer ikişer atlayarak rastgele 10 sayıdan oluşan matris üretin\n",
    "sayilar = np.arange(5, 101, 2)  # 5, 7, 9, ..., 99\n",
    "matris = np.random.choice(sayilar, size=10, replace=False)  # 10 farklı sayı seç\n",
    "print(\"Matris:\", matris)\n",
    "# 2 - matris'in özelliklerini inceleyin\n",
    "print(\"Şekli (shape):\", matris.shape)\n",
    "print(\"Boyut sayısı (ndim):\", matris.ndim)\n",
    "print(\"Veri tipi (dtype):\", matris.dtype)\n",
    "print(\"Eleman sayısı (size):\", matris.size)\n",
    "print(\"Minimum:\", matris.min())\n",
    "print(\"Maksimum:\", matris.max())\n",
    "print(\"Ortalama:\", matris.mean())"
   ]
  }
 ],
 "metadata": {
  "kernelspec": {
   "display_name": "Python 3",
   "language": "python",
   "name": "python3"
  },
  "language_info": {
   "codemirror_mode": {
    "name": "ipython",
    "version": 3
   },
   "file_extension": ".py",
   "mimetype": "text/x-python",
   "name": "python",
   "nbconvert_exporter": "python",
   "pygments_lexer": "ipython3",
   "version": "3.11.9"
  },
  "orig_nbformat": 4,
  "vscode": {
   "interpreter": {
    "hash": "5026d2d6e7aaaaba093def813beadff083d8733e4a511af01735cbabd156995d"
   }
  }
 },
 "nbformat": 4,
 "nbformat_minor": 2
}
