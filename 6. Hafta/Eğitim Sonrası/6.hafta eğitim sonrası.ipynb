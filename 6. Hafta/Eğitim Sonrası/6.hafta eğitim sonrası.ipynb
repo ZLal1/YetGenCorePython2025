{
 "cells": [
  {
   "cell_type": "markdown",
   "metadata": {
    "id": "unoTPlV_tJOm"
   },
   "source": [
    "# Problem 1 \n",
    "Bir sayının çift olup olmadığını sorgulayan bir fonksiyon yazın. Bu fonksiyon, eğer sayı çift ise bu değeri dönsün. Ancak sayı tek sayı ise fonksiyon raise ile ValueError hatası oluştursun. Daha sonra, içinde çift ve tek sayılar bulunduran bir liste tanımlayın ve liste üzerinde gezinerek ekrana sadece çift sayıları bastırın."
   ]
  },
  {
   "cell_type": "code",
   "execution_count": 11,
   "metadata": {
    "id": "7oyBSeXptJOp"
   },
   "outputs": [
    {
     "ename": "ValueError",
     "evalue": "Listede tek sayılar var: [7]",
     "output_type": "error",
     "traceback": [
      "\u001b[31m---------------------------------------------------------------------------\u001b[39m",
      "\u001b[31mValueError\u001b[39m                                Traceback (most recent call last)",
      "\u001b[36mCell\u001b[39m\u001b[36m \u001b[39m\u001b[32mIn[11]\u001b[39m\u001b[32m, line 10\u001b[39m\n\u001b[32m      7\u001b[39m         \u001b[38;5;28;01mfor\u001b[39;00m i \u001b[38;5;129;01min\u001b[39;00m liste:\n\u001b[32m      8\u001b[39m             \u001b[38;5;28mprint\u001b[39m(\u001b[33mf\u001b[39m\u001b[33m\"\u001b[39m\u001b[33mÇift sayı: \u001b[39m\u001b[38;5;132;01m{\u001b[39;00mi\u001b[38;5;132;01m}\u001b[39;00m\u001b[33m\"\u001b[39m)\n\u001b[32m---> \u001b[39m\u001b[32m10\u001b[39m \u001b[43mcift_sayi_mi\u001b[49m\u001b[43m(\u001b[49m\u001b[43m[\u001b[49m\u001b[32;43m2\u001b[39;49m\u001b[43m,\u001b[49m\u001b[43m \u001b[49m\u001b[32;43m4\u001b[39;49m\u001b[43m,\u001b[49m\u001b[43m \u001b[49m\u001b[32;43m6\u001b[39;49m\u001b[43m,\u001b[49m\u001b[43m \u001b[49m\u001b[32;43m7\u001b[39;49m\u001b[43m]\u001b[49m\u001b[43m)\u001b[49m\n",
      "\u001b[36mCell\u001b[39m\u001b[36m \u001b[39m\u001b[32mIn[11]\u001b[39m\u001b[32m, line 5\u001b[39m, in \u001b[36mcift_sayi_mi\u001b[39m\u001b[34m(liste)\u001b[39m\n\u001b[32m      3\u001b[39m tek_sayilar = [i \u001b[38;5;28;01mfor\u001b[39;00m i \u001b[38;5;129;01min\u001b[39;00m liste \u001b[38;5;28;01mif\u001b[39;00m i % \u001b[32m2\u001b[39m != \u001b[32m0\u001b[39m]\n\u001b[32m      4\u001b[39m \u001b[38;5;28;01mif\u001b[39;00m tek_sayilar:\n\u001b[32m----> \u001b[39m\u001b[32m5\u001b[39m     \u001b[38;5;28;01mraise\u001b[39;00m \u001b[38;5;167;01mValueError\u001b[39;00m(\u001b[33mf\u001b[39m\u001b[33m\"\u001b[39m\u001b[33mListede tek sayılar var: \u001b[39m\u001b[38;5;132;01m{\u001b[39;00mtek_sayilar\u001b[38;5;132;01m}\u001b[39;00m\u001b[33m\"\u001b[39m)\n\u001b[32m      6\u001b[39m \u001b[38;5;28;01melse\u001b[39;00m:\n\u001b[32m      7\u001b[39m     \u001b[38;5;28;01mfor\u001b[39;00m i \u001b[38;5;129;01min\u001b[39;00m liste:\n",
      "\u001b[31mValueError\u001b[39m: Listede tek sayılar var: [7]"
     ]
    }
   ],
   "source": [
    "# 1.Problemin Çözümünü Buraya Yazınız\n",
    "def cift_sayi_mi(liste):\n",
    "    tek_sayilar = [i for i in liste if i % 2 != 0]\n",
    "    if tek_sayilar:\n",
    "        raise ValueError(f\"Listede tek sayılar var: {tek_sayilar}\")\n",
    "    else:\n",
    "        for i in liste:\n",
    "            print(f\"Çift sayı: {i}\")\n",
    "\n",
    "cift_sayi_mi([2, 4, 6, 7])"
   ]
  },
  {
   "cell_type": "markdown",
   "metadata": {
    "id": "CdfzJ2A9tJOq"
   },
   "source": [
    "# Problem 2\n",
    "\n",
    "2 YetGen lideri ders sırasında canları sıkılınca oyun oynamak isterler. Ancak hangi oyunu oynayacaklarına karar veremezler ve son olarak kendi oyunlarını yazmaya karar verirler.\n",
    "Liderlerimizin kodlamak istediği oyun kuralları şöyledir:\n",
    "- Oyunda random olarak 0 ile 100 arasında bir sayı tutulur.\n",
    "- Kullanıcıdan bilgisayarın tuttuğu sayıyı tahmin etmesi için bir sayı girmesini istenir.\n",
    "- Eğer kullanıcının girdiği sayı bulunması gereken sayıdan küçükse  tahmininizi yükseltin, büyükse tahmininizi düşürün şeklinde bir çıktı verilir.\n",
    "- Oyunun gerçeğe yakın olması için bilgisayarın çalışmasını simgelemek için 1 saniye bekleme süresi tanınır.\n",
    "- Kullanıcı 5 hakkı vardır. 5 hakkı da kullanıp sayıyı bulamazsa oyunu kaybeder."
   ]
  },
  {
   "cell_type": "code",
   "execution_count": 2,
   "metadata": {
    "id": "A1VEETgCtJOr"
   },
   "outputs": [
    {
     "name": "stdout",
     "output_type": "stream",
     "text": [
      "-----------Sayı Tahmin Oyunu----------\n",
      "Analiz ediyor...\n",
      "Daha yüksek bir sayı söyleyin.\n",
      "Analiz ediyor...\n",
      "Daha düşük bir sayı söyleyin.\n",
      "Analiz ediyor...\n",
      "Daha yüksek bir sayı söyleyin.\n",
      "Analiz ediyor...\n",
      "Daha düşük bir sayı söyleyin.\n",
      "Analiz ediyor...\n",
      "Daha düşük bir sayı söyleyin.\n",
      "Üzgünüz, tahmin hakkınız kalmadı. Oyun bitti.\n",
      "Doğru sayı: 69\n"
     ]
    }
   ],
   "source": [
    "# 2.Problemin Çözümünü Buraya Yazınız\n",
    "\n",
    "import random\n",
    "import time\n",
    "print(\"-----------Sayı Tahmin Oyunu----------\")\n",
    "rastgelesayi = random.randint(1 , 100)\n",
    "tahmin_hakki = 5\n",
    "\n",
    "\n",
    "    \n",
    "while True:\n",
    "    tahmin = int(input(\"Tahmininizi giriniz: \"))\n",
    "    if (tahmin < rastgelesayi):\n",
    "        print(\"Analiz ediyor...\")\n",
    "        time.sleep(1)\n",
    "        print(\"Daha yüksek bir sayı söyleyin.\")\n",
    "        tahmin_hakki -= 1\n",
    "\n",
    "    elif  (tahmin > rastgelesayi):\n",
    "        print(\"Analiz ediyor...\")\n",
    "        time.sleep(1)\n",
    "        print(\"Daha düşük bir sayı söyleyin.\")\n",
    "        tahmin_hakki -= 1\n",
    "\n",
    "    else:\n",
    "        print(\"Analiz ediyor...\")\n",
    "        time.sleep(1)\n",
    "        print(\"Tebrikler, doğru tahmin ettiniz!\")\n",
    "\n",
    "    if (tahmin_hakki == 0):\n",
    "        print (\"Üzgünüz, tahmin hakkınız kalmadı. Oyun bitti.\")\n",
    "        print(\"Doğru sayı:\" , rastgelesayi)\n",
    "        \n",
    "        break\n",
    "\n",
    "\n",
    "\n",
    "\n",
    "\n",
    "\n",
    "\n",
    "\n",
    "\n",
    "       "
   ]
  }
 ],
 "metadata": {
  "colab": {
   "provenance": []
  },
  "kernelspec": {
   "display_name": "Python 3",
   "language": "python",
   "name": "python3"
  },
  "language_info": {
   "codemirror_mode": {
    "name": "ipython",
    "version": 3
   },
   "file_extension": ".py",
   "mimetype": "text/x-python",
   "name": "python",
   "nbconvert_exporter": "python",
   "pygments_lexer": "ipython3",
   "version": "3.11.9"
  },
  "orig_nbformat": 4,
  "vscode": {
   "interpreter": {
    "hash": "5026d2d6e7aaaaba093def813beadff083d8733e4a511af01735cbabd156995d"
   }
  }
 },
 "nbformat": 4,
 "nbformat_minor": 0
}
